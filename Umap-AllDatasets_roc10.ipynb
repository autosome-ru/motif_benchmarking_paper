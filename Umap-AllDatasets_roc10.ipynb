{
 "cells": [
  {
   "cell_type": "code",
   "execution_count": 1,
   "metadata": {},
   "outputs": [
    {
     "data": {
      "text/html": [
       "        <script type=\"text/javascript\">\n",
       "        window.PlotlyConfig = {MathJaxConfig: 'local'};\n",
       "        if (window.MathJax) {MathJax.Hub.Config({SVG: {font: \"STIX-Web\"}});}\n",
       "        if (typeof require !== 'undefined') {\n",
       "        require.undef(\"plotly\");\n",
       "        requirejs.config({\n",
       "            paths: {\n",
       "                'plotly': ['https://cdn.plot.ly/plotly-latest.min']\n",
       "            }\n",
       "        });\n",
       "        require(['plotly'], function(Plotly) {\n",
       "            window._Plotly = Plotly;\n",
       "        });\n",
       "        }\n",
       "        </script>\n",
       "        "
      ]
     },
     "metadata": {},
     "output_type": "display_data"
    }
   ],
   "source": [
    "import os\n",
    "import numpy as np\n",
    "import pandas as pd\n",
    "import plotly.offline as py\n",
    "import plotly.graph_objs as go\n",
    "import plotly.express as px\n",
    "import plotly.io as pio\n",
    "\n",
    "from sklearn.decomposition import PCA\n",
    "from sklearn.manifold import TSNE\n",
    "from plotly.offline import  init_notebook_mode\n",
    "from umap import UMAP\n",
    "from concurrent.futures import ProcessPoolExecutor\n",
    "from concurrent.futures import as_completed\n",
    "\n",
    "py.init_notebook_mode(connected=True)\n",
    "pio.templates.default = \"plotly_white\""
   ]
  },
  {
   "cell_type": "code",
   "execution_count": 256,
   "metadata": {},
   "outputs": [],
   "source": [
    "def run_tsne(dataset, perplexity, metric):\n",
    "    tsne_transformer = TSNE(n_components=2, n_iter=30000, perplexity=perplexity, metric=metric)\n",
    "    tsne_transformer.fit(dataset)\n",
    "    return tsne_transformer"
   ]
  },
  {
   "cell_type": "code",
   "execution_count": 257,
   "metadata": {},
   "outputs": [],
   "source": [
    "BENCHMARK_RESULTS_DIR = \"/home/penzard/benchmarking/\"\n",
    "\n",
    "DATASETS = {\n",
    "    'hocomoco_jolma_yang' : os.path.join(BENCHMARK_RESULTS_DIR, \"jolma_yang_hocomoco_roc10.txt\"),\n",
    "    'hocomoco_jolma_yang_shuffled': os.path.join(BENCHMARK_RESULTS_DIR, \"jolma_yang_shuf_hocomoco_roc10.txt\"),\n",
    "    'motifs_info': os.path.join(BENCHMARK_RESULTS_DIR, \"motifs_prefinal.tsv\"),\n",
    "    \"hocomoco_jolma\": os.path.join(BENCHMARK_RESULTS_DIR, 'hocomoco_jolma.txt'),\n",
    "    'jolma_yang_jaspar': os.path.join(BENCHMARK_RESULTS_DIR, 'jolma_yang_jaspar_roc10.txt'),\n",
    "    'jolma_yang_jaspar_shuffled': os.path.join(BENCHMARK_RESULTS_DIR, 'jolma_yang_shuf_jaspar_roc10.txt'),\n",
    "    'hocomoco_jolma_yang_shuffled_new': \"/home/penzard/phylip_new/jolma_yang_shuf_hocomoco_new_roc10.txt\",\n",
    "    'motifs_info_final': os.path.join(BENCHMARK_RESULTS_DIR, \"motif_annotation_final.tsv\"),\n",
    "    'jolma_yang_cisbp': os.path.join(BENCHMARK_RESULTS_DIR, 'jolma_yang_cisbp_roc10.txt'),\n",
    "     'jolma_yang_cisbp_shuffled': os.path.join(BENCHMARK_RESULTS_DIR, 'jolma_yang_shuf_cisbp_roc10.txt')\n",
    "}\n",
    "\n",
    "MOTIF_INFO_NAME = \"motifs_info_final\"\n",
    "\n",
    "import shutil\n",
    "\n",
    "dataset_name = 'full_roc10'\n",
    "HTML_OUT_DIR = f\"html_{dataset_name}\"\n",
    "\n",
    "try:\n",
    "    os.mkdir(HTML_OUT_DIR)\n",
    "except:\n",
    "    pass"
   ]
  },
  {
   "cell_type": "code",
   "execution_count": 258,
   "metadata": {},
   "outputs": [],
   "source": [
    "hocomoco = pd.read_table(DATASETS['hocomoco_jolma_yang']).transpose()\n",
    "jaspar = pd.read_table(DATASETS['jolma_yang_jaspar']).transpose()\n",
    "cisbp = pd.read_table(DATASETS['jolma_yang_cisbp']).transpose()"
   ]
  },
  {
   "cell_type": "code",
   "execution_count": 259,
   "metadata": {},
   "outputs": [],
   "source": [
    "\n",
    "cisbp.index =  [x[:x.find(\"_\", x.find(\"_\") + 1)] for x in cisbp.index]\n"
   ]
  },
  {
   "cell_type": "code",
   "execution_count": 260,
   "metadata": {},
   "outputs": [],
   "source": [
    "dataset = pd.concat([hocomoco, jaspar, cisbp], axis=0)"
   ]
  },
  {
   "cell_type": "code",
   "execution_count": 262,
   "metadata": {},
   "outputs": [
    {
     "name": "stderr",
     "output_type": "stream",
     "text": [
      "/home/penzard/miniconda3/lib/python3.7/site-packages/numba/compiler.py:602: NumbaPerformanceWarning:\n",
      "\n",
      "\n",
      "The keyword argument 'parallel=True' was specified but no transformation for parallel execution was possible.\n",
      "\n",
      "To find out why, try turning on parallel diagnostics, see http://numba.pydata.org/numba-doc/latest/user/parallel.html#diagnostics for help.\n",
      "\n",
      "File \"../miniconda3/lib/python3.7/site-packages/umap/nndescent.py\", line 47:\n",
      "    @numba.njit(parallel=True)\n",
      "    def nn_descent(\n",
      "    ^\n",
      "\n",
      "\n"
     ]
    }
   ],
   "source": [
    "umap_transformer = UMAP(n_neighbors=50,metric='cosine', n_components=2)\n",
    "umap_transformer.fit(dataset)\n",
    "umap_transform = umap_transformer.transform(dataset)\n",
    "\n"
   ]
  },
  {
   "cell_type": "code",
   "execution_count": 308,
   "metadata": {},
   "outputs": [],
   "source": [
    "dataset_coords = pd.DataFrame(umap_transform)\n",
    "dataset_coords.columns = [\"umap_x\", \"umap_y\"]\n",
    "dataset_coords['motif'] = dataset.index"
   ]
  },
  {
   "cell_type": "code",
   "execution_count": 264,
   "metadata": {},
   "outputs": [
    {
     "data": {
      "text/plain": [
       "1"
      ]
     },
     "execution_count": 264,
     "metadata": {},
     "output_type": "execute_result"
    }
   ],
   "source": [
    "perp_range = [25]\n",
    "len(perp_range)"
   ]
  },
  {
   "cell_type": "code",
   "execution_count": 265,
   "metadata": {},
   "outputs": [],
   "source": [
    "metric = 'cosine'"
   ]
  },
  {
   "cell_type": "code",
   "execution_count": 266,
   "metadata": {},
   "outputs": [
    {
     "name": "stdout",
     "output_type": "stream",
     "text": [
      "Finished for perplexity 25\n"
     ]
    }
   ],
   "source": [
    "executor = ProcessPoolExecutor(max_workers=min(len(perp_range), 30))\n",
    "\n",
    "tasks = {}\n",
    "\n",
    "for perplexity in perp_range:\n",
    "    t = executor.submit(run_tsne, dataset, perplexity, metric)\n",
    "    tasks[t] = perplexity\n",
    "    \n",
    "results = {}\n",
    "for t in as_completed(tasks):\n",
    "    perplexity = tasks[t]\n",
    "    try:\n",
    "        results[perplexity] = t.result()\n",
    "        print (f\"Finished for perplexity {perplexity}\")\n",
    "    except Exception as exc:\n",
    "        print(exc)\n",
    "        \n"
   ]
  },
  {
   "cell_type": "code",
   "execution_count": 309,
   "metadata": {},
   "outputs": [],
   "source": [
    "for perp, tsne_object in results.items():\n",
    "    dataset_coords[f'tsne_x_{perp}'] = tsne_object.embedding_[:, 0]\n",
    "    dataset_coords[f'tsne_y_{perp}'] = tsne_object.embedding_[:, 1]"
   ]
  },
  {
   "cell_type": "code",
   "execution_count": 310,
   "metadata": {},
   "outputs": [],
   "source": [
    "motifs_info = pd.read_table(DATASETS[MOTIF_INFO_NAME])\n",
    "\n"
   ]
  },
  {
   "cell_type": "code",
   "execution_count": 311,
   "metadata": {},
   "outputs": [],
   "source": [
    "motifs_info['motif'] = motifs_info.loc[:, ['collection', 'motif']].apply(lambda x : x[1] if x[0] != 'jaspar' else x[1].split(\"_\")[0],axis=1)"
   ]
  },
  {
   "cell_type": "code",
   "execution_count": 312,
   "metadata": {},
   "outputs": [],
   "source": [
    "dataset_coords = dataset_coords.merge(motifs_info, on='motif', how='left')"
   ]
  },
  {
   "cell_type": "code",
   "execution_count": 2,
   "metadata": {},
   "outputs": [],
   "source": [
    "source_type_table = pd.read_table(\"/home/penzard/benchmarking/source_types_curation.tsv\")"
   ]
  },
  {
   "cell_type": "code",
   "execution_count": 47,
   "metadata": {},
   "outputs": [],
   "source": [
    "dataset_coords = pd.read_csv('temp.csv')"
   ]
  },
  {
   "cell_type": "code",
   "execution_count": 48,
   "metadata": {},
   "outputs": [],
   "source": [
    "\n",
    "dataset_coords = dataset_coords.rename({\"source_type\": 'annotated_source'}, axis=1)"
   ]
  },
  {
   "cell_type": "code",
   "execution_count": 49,
   "metadata": {},
   "outputs": [],
   "source": [
    "a = dataset_coords['motif'][pd.isnull(dataset_coords['annotated_source'])]"
   ]
  },
  {
   "cell_type": "code",
   "execution_count": 50,
   "metadata": {},
   "outputs": [],
   "source": [
    "dataset_coords = dataset_coords.merge(source_type_table, on='annotated_source', how='left')"
   ]
  },
  {
   "cell_type": "code",
   "execution_count": 51,
   "metadata": {},
   "outputs": [],
   "source": [
    "grouping_columns = ['cisbp_families', \n",
    "                    'TF_Class_level_2',\n",
    "                    'TF_Class_level_3',\n",
    "                    'unified_source',\n",
    "                    'source_type',\n",
    "                   'collection']"
   ]
  },
  {
   "cell_type": "code",
   "execution_count": 55,
   "metadata": {},
   "outputs": [],
   "source": [
    "params = {}\n",
    "params['tsne'] =  [25]"
   ]
  },
  {
   "cell_type": "code",
   "execution_count": 56,
   "metadata": {},
   "outputs": [],
   "source": [
    "MINIMUM_NUMBER_OF_MOTIFS_PER_GROUP = 3 "
   ]
  },
  {
   "cell_type": "code",
   "execution_count": 57,
   "metadata": {},
   "outputs": [],
   "source": [
    "dataset_coords[grouping_columns] = dataset_coords[grouping_columns].fillna('Other')"
   ]
  },
  {
   "cell_type": "code",
   "execution_count": 58,
   "metadata": {},
   "outputs": [],
   "source": [
    "dataset_coords[grouping_columns] = dataset_coords[grouping_columns].fillna('Other')\n",
    "dataset_coords[grouping_columns] = dataset_coords[grouping_columns].\\\n",
    "    applymap(lambda x: 'Other' if (\",\"  in x) or (\";\" in x) or (x.lower() == 'other') or (x.lower() == 'unknown')  else x)"
   ]
  },
  {
   "cell_type": "code",
   "execution_count": 59,
   "metadata": {},
   "outputs": [],
   "source": [
    "NAMES_MAPPING = {'cisbp_families': \"CIS-BP Families\",\n",
    " 'TF_Class_level_2': \"TFClass level 2 (class)\",\n",
    " 'TF_Class_level_3': \"TFClass level 3 (family)\",\n",
    " 'unified_source': \"Motif experimental data\",\n",
    " 'source_type': \"Motif experimental data type\",\n",
    " 'collection': \"Motif collection\"}\n",
    "\n",
    "COLLECTION_MAPPING = {\n",
    "    'hocomoco': \"HOCOMOCO\", \n",
    "    'Other': \"Other\", \n",
    "    'other': \"Other\",\n",
    "    'jaspar': \"JASPAR\",  \n",
    "    'cisbp_direct': \"CIS-BP\",\n",
    "    'cisbp_inferred': 'CIS-INF'\n",
    "}"
   ]
  },
  {
   "cell_type": "code",
   "execution_count": 60,
   "metadata": {},
   "outputs": [],
   "source": [
    "dataset_coords['collection'] = dataset_coords['collection'].apply(lambda x : COLLECTION_MAPPING[x])"
   ]
  },
  {
   "cell_type": "code",
   "execution_count": 61,
   "metadata": {},
   "outputs": [],
   "source": [
    "dataset_name='all_latest'"
   ]
  },
  {
   "cell_type": "code",
   "execution_count": 67,
   "metadata": {},
   "outputs": [
    {
     "ename": "FileExistsError",
     "evalue": "[Errno 17] File exists: 'htmls_final'",
     "output_type": "error",
     "traceback": [
      "\u001b[0;31m---------------------------------------------------------------------------\u001b[0m",
      "\u001b[0;31mFileExistsError\u001b[0m                           Traceback (most recent call last)",
      "\u001b[0;32m<ipython-input-67-cb484571c856>\u001b[0m in \u001b[0;36m<module>\u001b[0;34m\u001b[0m\n\u001b[1;32m      1\u001b[0m \u001b[0mHTML_OUT_DIR\u001b[0m\u001b[0;34m=\u001b[0m\u001b[0;34m'htmls_final'\u001b[0m\u001b[0;34m\u001b[0m\u001b[0;34m\u001b[0m\u001b[0m\n\u001b[0;32m----> 2\u001b[0;31m \u001b[0mos\u001b[0m\u001b[0;34m.\u001b[0m\u001b[0mmkdir\u001b[0m\u001b[0;34m(\u001b[0m\u001b[0mHTML_OUT_DIR\u001b[0m\u001b[0;34m)\u001b[0m\u001b[0;34m\u001b[0m\u001b[0;34m\u001b[0m\u001b[0m\n\u001b[0m",
      "\u001b[0;31mFileExistsError\u001b[0m: [Errno 17] File exists: 'htmls_final'"
     ]
    }
   ],
   "source": [
    "HTML_OUT_DIR='htmls_final'\n",
    "os.mkdir(HTML_OUT_DIR)"
   ]
  },
  {
   "cell_type": "code",
   "execution_count": 69,
   "metadata": {},
   "outputs": [
    {
     "name": "stdout",
     "output_type": "stream",
     "text": [
      "all_latest_tsne_25.html\n"
     ]
    }
   ],
   "source": [
    "for method in ('tsne', ):\n",
    "    for par in params[method]:\n",
    "        outfilename = f\"{dataset_name}_{method}_{par}.html\"\n",
    "        outfilepath = os.path.join(HTML_OUT_DIR, outfilename)\n",
    "        print(outfilename)\n",
    "        with open(outfilepath, \"w\") as outfile:\n",
    "            \n",
    "            x_coord_name = f'{method}_x_{par}'\n",
    "            y_coord_name = f'{method}_y_{par}'\n",
    "            for column in grouping_columns:\n",
    "                data = []\n",
    "                trace = go.Scatter(\n",
    "                    x = dataset_coords[x_coord_name],\n",
    "                    y = dataset_coords[y_coord_name],\n",
    "                    mode = 'markers',\n",
    "                    name = f\"all\",\n",
    "                    hoverinfo='text',\n",
    "                    text=dataset_coords[column], \n",
    "                    visible=True, \n",
    "                    marker = dict(\n",
    "                      color = 'lightgrey',\n",
    "                    )\n",
    "                )\n",
    "\n",
    "                data.append(trace)\n",
    "\n",
    "\n",
    "                groups = dataset_coords.groupby(column)\n",
    "                groups = [g for g in groups if g[1].shape[0] >= MINIMUM_NUMBER_OF_MOTIFS_PER_GROUP]\n",
    "                groups = sorted(groups, key = lambda x : x[0].upper() if x[0].lower() != \"other\" else 'Z' * 100)\n",
    "                \n",
    "\n",
    "\n",
    "\n",
    "\n",
    "                for group_name, group_dt in groups:\n",
    "                    size = group_dt.shape[0]\n",
    "                    trace = go.Scatter(\n",
    "                        x = group_dt[x_coord_name],\n",
    "                        y = group_dt[y_coord_name],\n",
    "                        mode = 'markers',\n",
    "                        name = f\"{group_name}\",\n",
    "                        text=[f\"{group_name}|{x}|{y}\"for _, (x, y) in group_dt[['collection', 'motif']].iterrows() ],\n",
    "                        hoverinfo='text', \n",
    "                        visible=\"legendonly\",\n",
    "                        #legendgroup='whole'\n",
    "                    )\n",
    "                    data.append(trace)\n",
    "\n",
    "\n",
    "\n",
    "                layout= go.Layout(\n",
    "                    title = f'PBM Benchmark, correlation, tSNE, {NAMES_MAPPING[column]}',\n",
    "                    #title = \"Additional file. Dimensionality reduction with t-SNE applied to PWMs performance at PBM data. Each point corresponds to a PWM. Coloring schemes correspond to TFClass classes (level 2), TFClass families (level 3), CIS-BP families, Motif experimental source data, and Motif collections.\",\n",
    "                    hovermode= 'closest',\n",
    "                    xaxis= dict(\n",
    "                        title= f'{method}_x',\n",
    "                        ticklen= 5,\n",
    "                        zeroline= False,\n",
    "                        gridwidth= 2,\n",
    "\n",
    "                    ),\n",
    "                    yaxis=dict(\n",
    "                        title= f'{method}_y',\n",
    "                        ticklen= 5,\n",
    "                        gridwidth= 2,\n",
    "                    ),\n",
    "                    showlegend= True,\n",
    "\n",
    "                )\n",
    "\n",
    "\n",
    "                fig= go.Figure(data=data, layout=layout)\n",
    "\n",
    "                outfile.write(fig.to_html())\n",
    "                outfile.write(\"\\n\\n\")\n",
    "\n",
    "\n"
   ]
  },
  {
   "cell_type": "code",
   "execution_count": 283,
   "metadata": {},
   "outputs": [],
   "source": [
    "dataset_coords = dataset_coords.drop(['umap_x', 'umap_y'], axis=1)"
   ]
  },
  {
   "cell_type": "code",
   "execution_count": 65,
   "metadata": {},
   "outputs": [
    {
     "name": "stdout",
     "output_type": "stream",
     "text": [
      "/home/penzard/tfbs_answer\n"
     ]
    }
   ],
   "source": [
    "!pwd"
   ]
  },
  {
   "cell_type": "code",
   "execution_count": 286,
   "metadata": {},
   "outputs": [],
   "source": [
    "dataset_coords.to_csv('../final_all_roc10.tsv', sep=\"\\t\", index=None)"
   ]
  },
  {
   "cell_type": "markdown",
   "metadata": {},
   "source": [
    "@kehrlaehda Заголовки для html:\n",
    "\n",
    "HT-SELEX Benchmark 10 (или 50), AUC ROC, tSNE, CIS-BP Families\n",
    "\n",
    "тожесамое TFClass level 2 (class)\n",
    "\n",
    "тожесамое TFClass level 3 (family)\n",
    "\n",
    "тожесамое Motif experimental data\n",
    "\n",
    "тожесамое Motif experimental data type\n",
    "\n",
    "тожесамое Motif collection\n",
    "\n",
    "* на последней фигуре легенда: CIS-BP, HOCOMOCO, JASPAR, Other\n",
    "\n",
    "** еще ты подписи точек сломал - хорошо чтобы в них была коллекция и ID мотива, а не дублирование легенды."
   ]
  },
  {
   "cell_type": "code",
   "execution_count": 287,
   "metadata": {},
   "outputs": [
    {
     "data": {
      "text/plain": [
       "['cisbp_families',\n",
       " 'TF_Class_level_2',\n",
       " 'TF_Class_level_3',\n",
       " 'unified_source',\n",
       " 'source_type',\n",
       " 'collection']"
      ]
     },
     "execution_count": 287,
     "metadata": {},
     "output_type": "execute_result"
    }
   ],
   "source": []
  },
  {
   "cell_type": "code",
   "execution_count": 302,
   "metadata": {},
   "outputs": [
    {
     "data": {
      "text/plain": [
       "collection          other\n",
       "motif         M09559_2.00\n",
       "Name: 4988, dtype: object"
      ]
     },
     "execution_count": 302,
     "metadata": {},
     "output_type": "execute_result"
    }
   ],
   "source": [
    "y"
   ]
  },
  {
   "cell_type": "code",
   "execution_count": null,
   "metadata": {},
   "outputs": [],
   "source": []
  }
 ],
 "metadata": {
  "kernelspec": {
   "display_name": "Python 3",
   "language": "python",
   "name": "python3"
  },
  "language_info": {
   "codemirror_mode": {
    "name": "ipython",
    "version": 3
   },
   "file_extension": ".py",
   "mimetype": "text/x-python",
   "name": "python",
   "nbconvert_exporter": "python",
   "pygments_lexer": "ipython3",
   "version": "3.7.3"
  }
 },
 "nbformat": 4,
 "nbformat_minor": 4
}
